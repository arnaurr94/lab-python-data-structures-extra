{
 "cells": [
  {
   "cell_type": "markdown",
   "metadata": {},
   "source": [
    "# Lab | Data Structures "
   ]
  },
  {
   "cell_type": "markdown",
   "metadata": {},
   "source": [
    "## Exercise 1: Working with Lists"
   ]
  },
  {
   "cell_type": "markdown",
   "metadata": {},
   "source": [
    "Imagine you are building a program for a teacher who wants to track the progress of their students throughout the semester. The teacher wants to input the grades of each student one by one, and get a summary of their performance. There are in total 5 students. You are tasked with building the program that will allow the teacher to do this easily.\n",
    "\n",
    "The program will prompt the teacher to enter the grades of each student. Once the teacher has entered all the grades, the program will calculate the total sum of the grades and display it on the screen. Then, the program will create a new list by selecting only the grades of the first, third, and fifth students entered by the teacher, and sort them in ascending order.\n",
    "\n",
    "Finally, the program will print out the new list, along with its length and the number of occurrences of the score 5 in the list. This will give the teacher a good overview of the performance of the selected students, and help them identify any potential issues early on."
   ]
  },
  {
   "cell_type": "markdown",
   "metadata": {},
   "source": [
    "*Hint:*\n",
    "- You can use the input() function to ask the user to enter their information.\n",
    "- Look for list methods to perform the tasks. \n",
    "- Remember, it is possible to get a part of the sequence using:\n",
    "\n",
    "    ```python\n",
    "    sequence[x:y:z]\n",
    "    ```\n",
    "    where x, y, z are integers.\n",
    "\n",
    "    The above returns a new sequence with the following characteristics:\n",
    "\n",
    "    - A sequence with the same type as the original (a slice of a list is a list, a slice of a tuple is a tuple, and a slice of a string is a string).\n",
    "    - A sequence with elements from `sequence [x]` to `sequence [y-1]` (does not include a sequence [y]). By skipping `z` elements each time, it can be omitted if ` z = 1`.\n"
   ]
  },
  {
   "cell_type": "markdown",
   "metadata": {},
   "source": [
    "*Recommended External Resources:*\n",
    "- *[Python Lists](https://www.w3schools.com/python/python_lists.asp)*\n",
    "- *[Python List Methods](https://www.w3schools.com/python/python_ref_list.asp)*\n",
    "- *[Python Built-in Functions](https://docs.python.org/3/library/functions.html)*\n"
   ]
  },
  {
   "cell_type": "code",
   "execution_count": 18,
   "metadata": {},
   "outputs": [
    {
     "name": "stdout",
     "output_type": "stream",
     "text": [
      "These are all the grades: [1, 2, 3, 4, 5]\n",
      "The sum of the grades is : 15\n",
      "The new and sorted list is: [1, 3, 5] and has a length of: 3. The score 5 is repeated 1 times\n"
     ]
    }
   ],
   "source": [
    "# input the grades of each student one by one, and get a summary of their performance. There are in total 5 students.\n",
    "grades = []\n",
    "n = 0\n",
    "while n < 5:\n",
    "    i = int(input('Enter the grade of the student: '))\n",
    "    grades.append(i)\n",
    "    n+=1\n",
    "# the program calculates the total sum of the grades and display it on the screen\n",
    "sum_grades = sum(grades)\n",
    "print(f'These are all the grades: {grades}')\n",
    "print(f'The sum of the grades is : {sum_grades}')\n",
    "\n",
    "# Create a new list by selecting only the grades of the first, third, and fifth students entered, and sort them in ascending order.\n",
    "selected_grades = grades[0:5:2]\n",
    "selected_grades.sort()\n",
    "# Print the new list, along with its length and the number of occurrences of the score 5 in the list.\n",
    "print(f'The new and sorted list is: {selected_grades} and has a length of: {len(selected_grades)}. The score 5 is repeated {grades.count(5)} times')"
   ]
  },
  {
   "cell_type": "markdown",
   "metadata": {},
   "source": [
    "## Exercise 2: Tuples"
   ]
  },
  {
   "cell_type": "markdown",
   "metadata": {},
   "source": [
    "Imagine you're running a fruit stand and want to keep track of your inventory. Write a Python program that does the following:\n",
    "\n",
    "- Initializes a tuple with 5 different types of fruit.\n",
    "- Outputs the first and last elements of the tuple, so you can see the full range of fruits the store offers.\n",
    "- Replaces the second element of the tuple with a new fruit that the store has recently received, and prints the updated tuple so you can see the changes.\n",
    "- Concatenates a new tuple containing 2 additional fruits to the original tuple, so you can add them to the store inventory, and prints the resulting tuple to see the updated inventory.\n",
    "- Splits the resulting tuple into 2 tuples of 3 elements each (the first tuple contains the first 3 elements, and the second tuple contains the last 3 elements), so you can organize the inventory more effectively.\n",
    "- Combines the 2 tuples from the previous step with the original tuple into a new tuple, and prints the resulting tuple and its length, so you can see the final inventory after all the changes."
   ]
  },
  {
   "cell_type": "markdown",
   "metadata": {},
   "source": [
    "*Recommended External Resources: [Python Tuples Examples and Methods](https://www.w3schools.com/python/python_tuples.asp)*\n",
    "\n"
   ]
  },
  {
   "cell_type": "code",
   "execution_count": 33,
   "metadata": {},
   "outputs": [
    {
     "name": "stdout",
     "output_type": "stream",
     "text": [
      "First item:orange\n",
      "Last item:strawberry\n",
      "('orange', 'watermelon', 'banana', 'pear', 'strawberry')\n",
      "('orange', 'watermelon', 'banana', 'pear', 'strawberry', 'melon', 'peach')\n",
      "The final tuple is :('orange', 'watermelon', 'banana', 'peach', 'melon', 'strawberry', 'pear', 'orange', 'watermelon', 'banana', 'pear', 'strawberry', 'melon', 'peach') and has a length of: 14\n"
     ]
    }
   ],
   "source": [
    "# Initialise the tuple\n",
    "inventory = ('orange', 'apple', 'banana', 'pear', 'strawberry')\n",
    "\n",
    "# Outputs the first and last elements of the tuple\n",
    "print(f'First item:{inventory[0]}\\nLast item:{inventory[-1]}')\n",
    "\n",
    "# Replace the second element of the tuple with a new fruit and print it. Casting as a list and then tuple again, because tuples are immutable.\n",
    "inventory_list = list(inventory)\n",
    "inventory_list[1] = 'watermelon'\n",
    "inventory = tuple(inventory_list)\n",
    "print(inventory)\n",
    "\n",
    "# Concatenate a new tuple containing 2 additional fruits to the original tuple.\n",
    "inventory_2 = ('melon', 'peach')\n",
    "updt_inventory = inventory + inventory_2\n",
    "print(updt_inventory)\n",
    "\n",
    "# Split the resulting tuple into 2 tuples of 3 elements each\n",
    "updt_inventory_list = list(updt_inventory)\n",
    "tuple_1 = tuple(updt_inventory_list[:3])\n",
    "tuple_2 = tuple(updt_inventory_list[:2:-1])\n",
    "\n",
    "# Combine the 2 tuples from the previous step with the original tuple into a new tuple. Print the resulting tuple and its length\n",
    "final_tuple = tuple_1+tuple_2+updt_inventory\n",
    "print(f'The final tuple is :{final_tuple} and has a length of: {len(final_tuple)}')"
   ]
  },
  {
   "cell_type": "markdown",
   "metadata": {},
   "source": [
    "## Exercise 3: Sets"
   ]
  },
  {
   "cell_type": "markdown",
   "metadata": {},
   "source": [
    "Imagine you are a data analyst working for a literature museum. Your manager has given you two poems to analyze, and she wants you to write a Python program to extract useful information from them.\n",
    "\n",
    "Your program should:\n",
    "\n",
    "- Create two sets, one for each poem, containing all unique words in both poems (ignoring case and punctuation).\n",
    "- Print the number of unique words in each set.\n",
    "- Identify and print the unique words present in the first poem but not in the second one.\n",
    "- Identify and print the unique words present in the second poem but not in the first one.\n",
    "- Identify and print the unique words present in both poems and print it in alphabetical order."
   ]
  },
  {
   "cell_type": "markdown",
   "metadata": {},
   "source": [
    "*Recommended External Resources:*\n",
    "- *[Python Sets](https://www.w3schools.com/python/python_sets.asp)* \n",
    "- *[Python Set Methods](https://www.w3schools.com/python/python_ref_set.asp)*\n",
    "- *[Python String Methods](https://www.w3schools.com/python/python_ref_string.asp)*\n"
   ]
  },
  {
   "cell_type": "code",
   "execution_count": 35,
   "metadata": {},
   "outputs": [],
   "source": [
    "poem = \"\"\"Some say the world will end in fire,\n",
    "Some say in ice.\n",
    "From what I’ve tasted of desire\n",
    "I hold with those who favor fire.\n",
    "But if it had to perish twice,\n",
    "I think I know enough of hate\n",
    "To say that for destruction ice\n",
    "Is also great\n",
    "And would suffice.\"\"\"\n",
    "\n",
    "new_poem = \"\"\"Some say life is but a dream,\n",
    "Some say it's a test.\n",
    "From what I've seen and what I deem,\n",
    "I side with those who see it as a quest.\n",
    "\n",
    "But if it had to end today,\n",
    "I think I know enough of love,\n",
    "To say that though it fades away,\n",
    "It's still what we are made of.\"\"\""
   ]
  },
  {
   "cell_type": "code",
   "execution_count": 60,
   "metadata": {},
   "outputs": [
    {
     "name": "stdout",
     "output_type": "stream",
     "text": [
      "The number of unique words in poem is: 44\n",
      "The number of unique words in new_poem is: 47\n",
      "\n",
      "--------------\n",
      "Words in poem:\n",
      "--------------\n",
      "end\n",
      "ice.\n",
      "think\n",
      "had\n",
      "great\n",
      "if\n",
      "what\n",
      "with\n",
      "From\n",
      "hold\n",
      "enough\n",
      "fire.\n",
      "know\n",
      "would\n",
      "Is\n",
      "tasted\n",
      "of\n",
      "also\n",
      "And\n",
      "world\n",
      "it\n",
      "to\n",
      "will\n",
      "say\n",
      "hate\n",
      "To\n",
      "twice,\n",
      "I\n",
      "in\n",
      "desire\n",
      "that\n",
      "who\n",
      "perish\n",
      "But\n",
      "Some\n",
      "those\n",
      "favor\n",
      "suffice.\n",
      "for\n",
      "destruction\n",
      "fire,\n",
      "ice\n",
      "I’ve\n",
      "the\n",
      "\n",
      "------------------\n",
      "Words in new_poem:\n",
      "------------------\n",
      "\n",
      "side\n",
      "end\n",
      "of.\n",
      "though\n",
      "think\n",
      "is\n",
      "see\n",
      "made\n",
      "had\n",
      "deem,\n",
      "if\n",
      "what\n",
      "it's\n",
      "with\n",
      "From\n",
      "today,\n",
      "enough\n",
      "I've\n",
      "know\n",
      "test.\n",
      "of\n",
      "love,\n",
      "it\n",
      "but\n",
      "a\n",
      "still\n",
      "to\n",
      "say\n",
      "To\n",
      "I\n",
      "that\n",
      "who\n",
      "we\n",
      "fades\n",
      "dream,\n",
      "seen\n",
      "away,\n",
      "But\n",
      "Some\n",
      "those\n",
      "quest.\n",
      "It's\n",
      "are\n",
      "and\n",
      "life\n",
      "as\n",
      "\n",
      "-----------------------\n",
      "Words common for both:\n",
      "-----------------------\n",
      "But\n",
      "From\n",
      "I\n",
      "Some\n",
      "To\n",
      "end\n",
      "enough\n",
      "had\n",
      "if\n",
      "it\n",
      "know\n",
      "of\n",
      "say\n",
      "that\n",
      "think\n",
      "those\n",
      "to\n",
      "what\n",
      "who\n",
      "with\n"
     ]
    }
   ],
   "source": [
    "# Create two sets, one for each poem, containing all unique words in both poems (ignoring case and punctuation).\n",
    "poem_set = set(poem.replace('\\n', ' ').split(' '))\n",
    "new_poem_set = set(new_poem.replace('\\n', ' ').split(' '))\n",
    "\n",
    "# Print the number of unique words in each set.\n",
    "print(f'The number of unique words in poem is: {len(poem_set)}')\n",
    "print(f'The number of unique words in new_poem is: {len(new_poem_set)}')\n",
    "# Identify and print the unique words present in the first poem but not in the second one.\n",
    "print('\\n--------------\\nWords in poem:\\n--------------')\n",
    "for word in poem_set:\n",
    "    print(word)\n",
    "# Identify and print the unique words present in the second poem but not in the first one.\n",
    "print('\\n------------------\\nWords in new_poem:\\n------------------')\n",
    "for word in new_poem_set:\n",
    "    print(word)\n",
    "# Identify and print the unique words present in both poems and print it in alphabetical order.\n",
    "print('\\n-----------------------\\nWords common for both:\\n-----------------------')\n",
    "intersection = poem_set.intersection(new_poem_set)\n",
    "common_words = []\n",
    "for word in intersection:\n",
    "    common_words.append(word)\n",
    "common_words.sort()\n",
    "for word in common_words:\n",
    "    print(word)\n"
   ]
  },
  {
   "cell_type": "markdown",
   "metadata": {},
   "source": [
    "## Exercise 4: Dictionaries"
   ]
  },
  {
   "cell_type": "markdown",
   "metadata": {},
   "source": [
    "Consider the following dictionary of students with their scores in different subjects. One of the students, Bob, has complained about his score in Philosophy and, after reviewing it, the teacher has decided to update his score to 100. Write a Python program that updates Bob's score in Philosophy to 100 in the dictionary."
   ]
  },
  {
   "cell_type": "markdown",
   "metadata": {},
   "source": [
    "*Recommended External Resources: [Python Dictionary Examples and Methods](https://www.w3schools.com/python/python_dictionaries.asp)*\n"
   ]
  },
  {
   "cell_type": "code",
   "execution_count": 61,
   "metadata": {},
   "outputs": [],
   "source": [
    "grades = {'Alice': {'Physics': 75, 'Math': 85, 'Chemistry': 60, 'Philosophy': 90}, 'Bob': {'Physics': 75, 'Math': 85, 'Chemistry': 60, 'Philosophy': 90}}"
   ]
  },
  {
   "cell_type": "code",
   "execution_count": 64,
   "metadata": {},
   "outputs": [
    {
     "data": {
      "text/plain": [
       "{'Physics': 75, 'Math': 85, 'Chemistry': 60, 'Philosophy': 100}"
      ]
     },
     "execution_count": 64,
     "metadata": {},
     "output_type": "execute_result"
    }
   ],
   "source": [
    "grades['Bob']['Philosophy']=100\n",
    "grades['Bob']"
   ]
  },
  {
   "cell_type": "markdown",
   "metadata": {},
   "source": [
    "## Bonus"
   ]
  },
  {
   "cell_type": "markdown",
   "metadata": {},
   "source": [
    "1. Below are the two lists. Write a Python program to convert them into a dictionary in a way that item from list1 is the key and item from list2 is the value."
   ]
  },
  {
   "cell_type": "markdown",
   "metadata": {},
   "source": [
    "*Hint: Use the zip() function. This function takes two or more iterables (like list, dict, string), aggregates them in a tuple, and returns it. Afterwards, you can use a function that turns a tuple into a dictionary.*"
   ]
  },
  {
   "cell_type": "markdown",
   "metadata": {},
   "source": [
    "*Recommended External Resources: [Python Zip Function](https://www.w3schools.com/python/ref_func_zip.asp)*\n"
   ]
  },
  {
   "cell_type": "code",
   "execution_count": 66,
   "metadata": {},
   "outputs": [
    {
     "data": {
      "text/plain": [
       "{'Physics': 75, 'Math': 85, 'Chemistry': 60, 'Philosophy': 90}"
      ]
     },
     "execution_count": 66,
     "metadata": {},
     "output_type": "execute_result"
    }
   ],
   "source": [
    "keys = ['Physics', 'Math', 'Chemistry', 'Philosophy']\n",
    "values = [75, 85, 60,90]\n",
    "my_dict = dict(zip(keys, values))\n",
    "my_dict\n"
   ]
  },
  {
   "cell_type": "markdown",
   "metadata": {},
   "source": [
    "2. Get the subject with the minimum score from the previous dictionary."
   ]
  },
  {
   "cell_type": "markdown",
   "metadata": {},
   "source": [
    "*Hint: Use the built-in function min(). Read about the parameter key.*"
   ]
  },
  {
   "cell_type": "markdown",
   "metadata": {},
   "source": [
    "\n",
    "*Recommended External Resources:*\n",
    "- *[Python Min Function Official Documentation](https://docs.python.org/3.8/library/functions.html#min)*\n",
    "- *[How to use key function in max and min in Python](https://medium.com/analytics-vidhya/how-to-use-key-function-in-max-and-min-in-python-1fdbd661c59c)*"
   ]
  },
  {
   "cell_type": "code",
   "execution_count": 68,
   "metadata": {},
   "outputs": [
    {
     "data": {
      "text/plain": [
       "'Chemistry'"
      ]
     },
     "execution_count": 68,
     "metadata": {},
     "output_type": "execute_result"
    }
   ],
   "source": [
    "min(my_dict)"
   ]
  }
 ],
 "metadata": {
  "kernelspec": {
   "display_name": "base",
   "language": "python",
   "name": "python3"
  },
  "language_info": {
   "codemirror_mode": {
    "name": "ipython",
    "version": 3
   },
   "file_extension": ".py",
   "mimetype": "text/x-python",
   "name": "python",
   "nbconvert_exporter": "python",
   "pygments_lexer": "ipython3",
   "version": "3.13.5"
  }
 },
 "nbformat": 4,
 "nbformat_minor": 4
}
